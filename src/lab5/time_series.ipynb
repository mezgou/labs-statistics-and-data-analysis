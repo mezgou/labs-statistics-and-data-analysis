{
 "cells": [
  {
   "cell_type": "markdown",
   "id": "ca5e1298",
   "metadata": {},
   "source": [
    "# Основная информация по отчету\n",
    "### ФИО1 - Мирасов Константин Владимирович\n",
    "### ИСУ1 - 466716\n",
    "### ФИО2 - Быков Владимир Андреевич\n",
    "### ИСУ2 - 465327\n",
    "### Практический поток - ИИИ 2.1 и ИИИ 2.2"
   ]
  },
  {
   "cell_type": "markdown",
   "id": "a353fc4a",
   "metadata": {},
   "source": [
    "## Ход выполнения работы\n",
    "#### 1. Загрузили финансовые данные (цена закрытия Apple)\n",
    "#### 2. Построили графики временного ряда и разностных рядов\n",
    "#### 3. Рассчитали автокорреляционную функцию (АКФ)\n",
    "#### 4. Провели тест Дики-Фуллера на стационарность\n",
    "#### 5. Реализовали экспоненциальное сглаживание\n",
    "#### 6. Проанализировали результаты"
   ]
  },
  {
   "cell_type": "markdown",
   "id": "ca7cb2a4",
   "metadata": {},
   "source": [
    "## Импорт библиотек"
   ]
  },
  {
   "cell_type": "code",
   "execution_count": 3,
   "id": "0ba045d2",
   "metadata": {},
   "outputs": [],
   "source": [
    "import yfinance as yf\n",
    "import pandas as pd\n",
    "import numpy as np\n",
    "import matplotlib.pyplot as plt\n",
    "\n",
    "from statsmodels.tsa.stattools import adfuller\n",
    "from statsmodels.graphics.tsaplots import plot_acf\n",
    "from matplotlib.dates import YearLocator, MonthLocator, DateFormatter"
   ]
  }
 ],
 "metadata": {
  "kernelspec": {
   "display_name": ".venv",
   "language": "python",
   "name": "python3"
  },
  "language_info": {
   "codemirror_mode": {
    "name": "ipython",
    "version": 3
   },
   "file_extension": ".py",
   "mimetype": "text/x-python",
   "name": "python",
   "nbconvert_exporter": "python",
   "pygments_lexer": "ipython3",
   "version": "3.13.3"
  }
 },
 "nbformat": 4,
 "nbformat_minor": 5
}
